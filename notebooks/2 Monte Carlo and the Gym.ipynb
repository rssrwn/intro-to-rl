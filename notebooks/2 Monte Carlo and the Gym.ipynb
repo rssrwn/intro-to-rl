{
 "cells": [
  {
   "cell_type": "markdown",
   "metadata": {},
   "source": [
    "Monte Carlo simulation can be used to estimate the outcome of non-deterministic processes where that follow some probability distribution.\n",
    "\n",
    "There are two components that we need to run a Monte Carlo simulation:\n",
    "\n",
    ". The equation to evaluate\n",
    ". The random variables for the input\n",
    "\n",
    "In this example we are considering leasing a machine for a manufacturing process. The one-year lease costs is $300,000. There are some estimations on the 90% confidence interval of the impact.\n",
    "\n",
    "- savings between 5 and -2 dollars to produce each unit.\n",
    "- savings between 20 and 15 dollars to transport each unit.\n",
    "- production increase between 30000 and 20000.\n",
    "\n",
    "We want to know if it's worth investing in buying the machine.\n",
    "\n",
    "\n"
   ]
  },
  {
   "cell_type": "code",
   "execution_count": 6,
   "metadata": {},
   "outputs": [],
   "source": [
    "%matplotlib inline\n",
    "import scipy\n",
    "from scipy.stats import norm\n",
    "import pandas as pd\n",
    "from matplotlib import pyplot as plt\n",
    "\n",
    "machinery_cost = 300000\n",
    "\n",
    "number_of_simulations = 1000000\n",
    "confidence = 0.90\n",
    "n =1000\n",
    "\n",
    "conf_interval = (scipy.stats.t.ppf((1 + confidence) / 2., n-1))*2\n",
    "\n",
    "\n",
    "# Defining the variables\n",
    "\n",
    "# We find the distrubutions of the potential savings that we will have\n",
    "transport_saving = norm(loc = (20 + 15) / 2, scale = (20 - 15) / conf_interval)\n",
    "# Savings in labour are xtimated between 5 and -1\n",
    "labor_saving = norm(loc = (5 - (-2)) / 2, scale = (5 - (-2)) / conf_interval)\n",
    "transport_results = transport_saving.rvs(number_of_simulations)\n",
    "labor_results = labor_saving.rvs(number_of_simulations)\n",
    "prod_level = norm(loc = (30000 + 20000) / 2, scale = (30000 - 10000) / conf_interval)\n",
    "\n",
    "prod_level_results = prod_level.rvs(number_of_simulations)\n",
    "data = pd.DataFrame({\n",
    "    \"transport_saving_per_unit\": transport_results,\n",
    "    \"labor_savings_per_unit\": labor_results,\n",
    "    \"production_level\": prod_level_results\n",
    "})\n",
    "data[\"total_savings\"] = 0\n"
   ]
  },
  {
   "cell_type": "code",
   "execution_count": 2,
   "metadata": {},
   "outputs": [
    {
     "data": {
      "image/png": "[encoded data removed]",
      "text/plain": [
       "<Figure size 432x288 with 1 Axes>"
      ]
     },
     "metadata": {
      "needs_background": "light"
     },
     "output_type": "display_data"
    },
    {
     "data": {
      "text/plain": [
       "'The probability of losing money is: 5.0261%'"
      ]
     },
     "execution_count": 2,
     "metadata": {},
     "output_type": "execute_result"
    }
   ],
   "source": [
    "plt.hist(data.total_savings, bins = 100)\n",
    "plt.axvline(x = machinery_cost, c = \"g\")\n",
    "plt.show()\n",
    "\n",
    "probability_losing_money = data[data[\"total_savings\"] < machinery_cost].count()[\"total_savings\"] / 1000000\n",
    "f\"The probability of losing money is: {probability_losing_money*100}%\""
   ]
  },
  {
   "cell_type": "markdown",
   "metadata": {},
   "source": [
    "# Familiarize with OpenAI's Gym\n",
    "The Gyms provides a set of environment where it's possible to test and train different Reinforcement Learning algorithms.\n",
    "\n",
    "It's possible to find more information about the environment here: https://gym.openai.com/."
   ]
  },
  {
   "cell_type": "code",
   "execution_count": 2,
   "metadata": {
    "ExecuteTime": {
     "end_time": "2019-04-30T17:16:43.807602Z",
     "start_time": "2019-04-30T17:16:43.783300Z"
    }
   },
   "outputs": [
    {
     "name": "stdout",
     "output_type": "stream",
     "text": [
      "Starting the enviroment\n",
      "\n",
      "\u001b[41mS\u001b[0mFFF\n",
      "FHFH\n",
      "FFFH\n",
      "HFFG\n",
      "Enviroment after step 1\n",
      "  (Down)\n",
      "\u001b[41mS\u001b[0mFFF\n",
      "FHFH\n",
      "FFFH\n",
      "HFFG\n"
     ]
    }
   ],
   "source": [
    "%matplotlib inline\n",
    "\n",
    "import gym\n",
    "import matplotlib.pyplot as plt\n",
    "\n",
    "# Choose environment\n",
    "env_names = ['FrozenLake-v0', 'CartPole-v0']\n",
    "\n",
    "env_name = env_names[0]\n",
    "# Create Environment\n",
    "env = gym.make(env_name)\n",
    "\n",
    "# This funciotn cna be use to visualize the results directly in the notebook\n",
    "render_in_jp = lambda : plt.imshow(env.render(mode='rgb_array'))\n",
    "\n",
    "env.reset()\n",
    "# render_in_jp()\n",
    "print('Starting the enviroment')\n",
    "env.render()\n",
    "# Taking step 1\n",
    "env.step(1)\n",
    "print('Enviroment after step 1')\n",
    "env.render()\n"
   ]
  },
  {
   "cell_type": "code",
   "execution_count": 3,
   "metadata": {
    "ExecuteTime": {
     "end_time": "2019-04-30T17:17:01.611290Z",
     "start_time": "2019-04-30T17:17:01.606341Z"
    }
   },
   "outputs": [
    {
     "name": "stdout",
     "output_type": "stream",
     "text": [
      "Number of actions 4 for the FrozenLake-v0 enviroment\n",
      "Number of possible states 16 for the FrozenLake-v0 enviroment\n"
     ]
    }
   ],
   "source": [
    "\n",
    "n_actions = env.action_space.n\n",
    "n_states = env.observation_space.n\n",
    "\n",
    "# Actions are left, up, right, down\n",
    "print(f'Number of actions {n_actions} for the {env_name} enviroment')\n",
    "# States are the 16 fields\n",
    "print(f'Number of possible states {n_states} for the {env_name} enviroment')"
   ]
  },
  {
   "cell_type": "code",
   "execution_count": 5,
   "metadata": {
    "ExecuteTime": {
     "start_time": "2019-04-30T16:58:12.766Z"
    }
   },
   "outputs": [],
   "source": [
    "# TODO: Fix, it does not work because of OpenGL\n",
    "\n",
    "# import gym\n",
    "# import matplotlib.pyplot as plt\n",
    "\n",
    "# render_in_jp = lambda : plt.imshow(env.render(mode='rgb_array'))\n",
    "\n",
    "# env = gym.make('CartPole-v0')\n",
    "\n",
    "# for i_episode in range(2):\n",
    "#     observation = env.reset()\n",
    "#     for t in range(10):\n",
    "#         render_in_jp()\n",
    "#         action = 1\n",
    "#         # When Calling the step method on the enviroment object\n",
    "#         # We return \n",
    "#         observation, reward, done, info = env.step(action)\n",
    "#         if done:\n",
    "#             print(\"Episode finished after {} timesteps\".format(t+1))\n",
    "#             break\n",
    "# env.close()\n"
   ]
  },
  {
   "cell_type": "code",
   "execution_count": 4,
   "metadata": {
    "ExecuteTime": {
     "end_time": "2019-04-30T17:09:32.056564Z",
     "start_time": "2019-04-30T17:09:31.726995Z"
    }
   },
   "outputs": [
    {
     "data": {
      "image/png": "[encoded data removed]",
      "text/plain": [
       "<Figure size 432x288 with 1 Axes>"
      ]
     },
     "metadata": {
      "needs_background": "light"
     },
     "output_type": "display_data"
    }
   ],
   "source": [
    "env = gym.make('MsPacman-v0')\n",
    "env.reset()\n",
    "for _ in range(10):\n",
    "    render_in_jp()\n",
    "    env.step(env.action_space.sample()) # take a random action\n",
    "env.close()"
   ]
  },
  {
   "cell_type": "code",
   "execution_count": 5,
   "metadata": {
    "ExecuteTime": {
     "end_time": "2019-04-30T17:09:50.380849Z",
     "start_time": "2019-04-30T17:09:50.053485Z"
    }
   },
   "outputs": [
    {
     "data": {
      "image/png": "[encoded data removed]",
      "text/plain": [
       "<Figure size 432x288 with 1 Axes>"
      ]
     },
     "metadata": {
      "needs_background": "light"
     },
     "output_type": "display_data"
    }
   ],
   "source": [
    "env = gym.make('SpaceInvaders-v0')\n",
    "env.reset()\n",
    "for _ in range(10):\n",
    "    render_in_jp()\n",
    "    env.step(env.action_space.sample()) # take a random action\n",
    "env.close()"
   ]
  },
  {
   "cell_type": "code",
   "execution_count": 6,
   "metadata": {
    "ExecuteTime": {
     "end_time": "2019-04-30T17:12:20.249584Z",
     "start_time": "2019-04-30T17:12:19.914808Z"
    }
   },
   "outputs": [
    {
     "data": {
      "image/png": "[encoded data removed]",
      "text/plain": [
       "<Figure size 432x288 with 1 Axes>"
      ]
     },
     "metadata": {
      "needs_background": "light"
     },
     "output_type": "display_data"
    }
   ],
   "source": [
    "# This is only using the observation is the RAM of the Atari machine\n",
    "# consisting of 128 bytes\n",
    "env = gym.make('BattleZone-ram-v0')\n",
    "env.reset()\n",
    "for _ in range(10):\n",
    "    render_in_jp()\n",
    "    env.step(env.action_space.sample()) # take a random action\n",
    "env.close()\n"
   ]
  },
  {
   "cell_type": "code",
   "execution_count": null,
   "metadata": {},
   "outputs": [],
   "source": []
  },
  {
   "cell_type": "code",
   "execution_count": null,
   "metadata": {},
   "outputs": [],
   "source": []
  }
 ],
 "metadata": {
  "kernelspec": {
   "display_name": "Python 3",
   "language": "python",
   "name": "python3"
  },
  "language_info": {
   "codemirror_mode": {
    "name": "ipython",
    "version": 3
   },
   "file_extension": ".py",
   "mimetype": "text/x-python",
   "name": "python",
   "nbconvert_exporter": "python",
   "pygments_lexer": "ipython3",
   "version": "3.7.3"
  }
 },
 "nbformat": 4,
 "nbformat_minor": 2
}
