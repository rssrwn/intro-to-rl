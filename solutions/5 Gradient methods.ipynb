{
 "cells": [
  {
   "cell_type": "markdown",
   "metadata": {},
   "source": [
    "# REINFORCE with NumPy\n",
    "\n",
    "Our agent, a cart, needs to balance a pole. At every time step it can go left, right or stand still. If it's not possible to move towards the chosen direction our agent will simply not move.\n",
    "\n",
    "We want to use REINFORCE to solve this problem."
   ]
  },
  {
   "cell_type": "code",
   "execution_count": 7,
   "metadata": {},
   "outputs": [
    {
     "name": "stdout",
     "output_type": "stream",
     "text": [
      "EP: 999 Score: 200.0         \r"
     ]
    },
    {
     "data": {
      "image/png": "[encoded data removed]",
      "text/plain": [
       "<Figure size 432x288 with 1 Axes>"
      ]
     },
     "metadata": {
      "needs_background": "light"
     },
     "output_type": "display_data"
    }
   ],
   "source": [
    "import gym\n",
    "import numpy as np\n",
    "import matplotlib.pyplot as plt\n",
    "import copy \n",
    "\n",
    "#Hyperparameters\n",
    "NUM_EPISODES = 1000\n",
    "LEARNING_RATE = 0.001\n",
    "GAMMA = 0.90\n",
    "\n",
    "# Create gym and seed numpy\n",
    "env = gym.make('CartPole-v0')\n",
    "nA = env.action_space.n\n",
    "np.random.seed(1)\n",
    "\n",
    "# Init weight\n",
    "w = np.random.rand(4, 2)\n",
    "\n",
    "# Keep stats for final print of graph\n",
    "episode_rewards = []\n",
    "\n",
    "# Our policy that maps state to action parameterized by w\n",
    "def policy(state,w):\n",
    "    z = state.dot(w)\n",
    "    exp = np.exp(z)\n",
    "    return exp/np.sum(exp)\n",
    "\n",
    "# Vectorized softmax Jacobian\n",
    "def softmax_grad(softmax):\n",
    "    s = softmax.reshape(-1,1)\n",
    "    return np.diagflat(s) - np.dot(s, s.T)\n",
    "\n",
    "# Main loop \n",
    "# Make sure you update your weights AFTER each episode\n",
    "for e in range(NUM_EPISODES):\n",
    "\n",
    "    state = env.reset()[None,:]\n",
    "\n",
    "    grads = []    \n",
    "    rewards = []\n",
    "\n",
    "    # Keep track of game score to print\n",
    "    score = 0\n",
    "\n",
    "    while True:\n",
    "\n",
    "        # Uncomment to see your model train in real time (slower)\n",
    "        #env.render()\n",
    "\n",
    "        # Sample from policy and take action in environment\n",
    "        probs = policy(state,w)\n",
    "        action = np.random.choice(nA,p=probs[0])\n",
    "        next_state,reward,done,_ = env.step(action)\n",
    "        next_state = next_state[None,:]\n",
    "\n",
    "        # Compute gradient and save with reward in memory for our weight updates\n",
    "        dsoftmax = softmax_grad(probs)[action,:]\n",
    "        dlog = dsoftmax / probs[0,action]\n",
    "        grad = state.T.dot(dlog[None,:])\n",
    "\n",
    "        grads.append(grad)\n",
    "        rewards.append(reward)        \n",
    "\n",
    "        score+=reward\n",
    "\n",
    "        # Dont forget to update your old state to the new state\n",
    "        state = next_state\n",
    "\n",
    "        if done:\n",
    "            break\n",
    "\n",
    "    # Weight update\n",
    "    for i in range(len(grads)):\n",
    "\n",
    "        # Loop through everything that happend in the episode and update towards the log policy gradient times **FUTURE** reward\n",
    "        w += LEARNING_RATE * grads[i] * sum([ r * (GAMMA ** r) for t,r in enumerate(rewards[i:])])\n",
    "    \n",
    "    # Append for logging and print\n",
    "    episode_rewards.append(score) \n",
    "    print(\"EP: \" + str(e) + \" Score: \" + str(score) + \"         \",end=\"\\r\", flush=False) \n",
    "#     env.render()\n",
    "\n",
    "plt.plot(np.arange(NUM_EPISODES),episode_rewards)\n",
    "plt.show()\n",
    "env.close()\n",
    "\n"
   ]
  }
 ],
 "metadata": {
  "anaconda-cloud": {},
  "kernelspec": {
   "display_name": "Python 3",
   "language": "python",
   "name": "python3"
  },
  "language_info": {
   "codemirror_mode": {
    "name": "ipython",
    "version": 3
   },
   "file_extension": ".py",
   "mimetype": "text/x-python",
   "name": "python",
   "nbconvert_exporter": "python",
   "pygments_lexer": "ipython3",
   "version": "3.7.3"
  }
 },
 "nbformat": 4,
 "nbformat_minor": 1
}
